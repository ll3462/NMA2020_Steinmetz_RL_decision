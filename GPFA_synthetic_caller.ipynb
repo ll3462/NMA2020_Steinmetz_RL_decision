{
 "metadata": {
  "language_info": {
   "codemirror_mode": {
    "name": "ipython",
    "version": 3
   },
   "file_extension": ".py",
   "mimetype": "text/x-python",
   "name": "python",
   "nbconvert_exporter": "python",
   "pygments_lexer": "ipython3",
   "version": "3.7.7-final"
  },
  "orig_nbformat": 2,
  "kernelspec": {
   "name": "python37764bitelephantenvconda483b8a2cd825415e9328a24de78da91e",
   "display_name": "Python 3.7.7 64-bit ('elephant_env': conda)"
  }
 },
 "nbformat": 4,
 "nbformat_minor": 2,
 "cells": [
  {
   "cell_type": "code",
   "execution_count": null,
   "metadata": {},
   "outputs": [],
   "source": [
    "import sys\n",
    "sys.path.append('.')\n",
    "import numpy as np\n",
    "from scipy.integrate import odeint\n",
    "import quantities as pq\n",
    "import neo\n",
    "from elephant.spike_train_generation import inhomogeneous_poisson_process"
   ]
  },
  {
   "cell_type": "code",
   "execution_count": null,
   "metadata": {},
   "outputs": [],
   "source": [
    "# Generate synthetic spike train\n",
    "# set parameters for the integration of the harmonic oscillator\n",
    "timestep = 1 * pq.ms\n",
    "trial_duration = 2 * pq.s\n",
    "num_steps = int((trial_duration.rescale('ms')/timestep).magnitude)\n",
    "\n",
    "# set parameters for spike train generation\n",
    "max_rate = 70 * pq.Hz\n",
    "np.random.seed(42)  # for visualization purposes, we want to get identical spike trains at any run\n",
    "\n",
    "# specify data size\n",
    "num_trials = 20\n",
    "num_spiketrains = 50\n",
    "\n",
    "# generate a low-dimensional trajectory\n",
    "times_oscillator, oscillator_trajectory_2dim = integrated_oscillator(\n",
    "    timestep.magnitude, num_steps=num_steps, x0=0, y0=1)\n",
    "times_oscillator = (times_oscillator*timestep.units).rescale('s')\n",
    "\n",
    "# random projection to high-dimensional space\n",
    "oscillator_trajectory_Ndim = random_projection(\n",
    "    oscillator_trajectory_2dim, embedding_dimension=num_spiketrains)\n",
    "\n",
    "# convert to instantaneous rate for Poisson process\n",
    "normed_traj = oscillator_trajectory_Ndim / oscillator_trajectory_Ndim.max()\n",
    "instantaneous_rates_oscillator = np.power(max_rate.magnitude, normed_traj)\n",
    "\n",
    "# generate spike trains\n",
    "spiketrains_oscillator = generate_spiketrains(\n",
    "    instantaneous_rates_oscillator, num_trials, timestep)"
   ]
  },
  {
   "cell_type": "code",
   "execution_count": null,
   "metadata": {},
   "outputs": [],
   "source": [
    "import matplotlib.pyplot as plt\n",
    "\n",
    "\n",
    "f, ((ax1, ax2), (ax3, ax4)) = plt.subplots(2, 2, figsize=(15, 10))\n",
    "\n",
    "ax1.set_title('2-dim Harmonic Oscillator')\n",
    "ax1.set_xlabel('time [s]')\n",
    "for i, y in enumerate(oscillator_trajectory_2dim):\n",
    "    ax1.plot(times_oscillator, y, label=f'dimension {i}')\n",
    "ax1.legend()\n",
    "\n",
    "ax2.set_title('Trajectory in 2-dim space')\n",
    "ax2.set_xlabel('Dim 1')\n",
    "ax2.set_ylabel('Dim 2')\n",
    "ax2.set_aspect(1)\n",
    "ax2.plot(oscillator_trajectory_2dim[0], oscillator_trajectory_2dim[1])\n",
    "\n",
    "ax3.set_title(f'Projection to {num_spiketrains}-dim space')\n",
    "ax3.set_xlabel('time [s]')\n",
    "y_offset = oscillator_trajectory_Ndim.std() * 3\n",
    "for i, y in enumerate(oscillator_trajectory_Ndim):\n",
    "    ax3.plot(times_oscillator, y + i*y_offset)\n",
    "\n",
    "trial_to_plot = 0\n",
    "ax4.set_title(f'Raster plot of trial {trial_to_plot}')\n",
    "ax4.set_xlabel('Time (s)')\n",
    "ax4.set_ylabel('Spike train index')\n",
    "for i, spiketrain in enumerate(spiketrains_oscillator[trial_to_plot]):\n",
    "    ax4.plot(spiketrain, np.ones_like(spiketrain) * i, ls='', marker='|')\n",
    "\n",
    "plt.tight_layout()\n",
    "plt.show()"
   ]
  },
  {
   "cell_type": "code",
   "execution_count": null,
   "metadata": {},
   "outputs": [],
   "source": [
    "# Apply GPFA to synthesized data \n",
    "from elephant.gpfa import GPFA\n",
    "\n",
    "\n",
    "# specify fitting parameters\n",
    "bin_size = 20 * pq.ms\n",
    "latent_dimensionality = 2\n",
    "\n",
    "gpfa_2dim = GPFA(bin_size=bin_size, x_dim=latent_dimensionality)"
   ]
  },
  {
   "cell_type": "code",
   "execution_count": null,
   "metadata": {},
   "outputs": [],
   "source": []
  }
 ]
}